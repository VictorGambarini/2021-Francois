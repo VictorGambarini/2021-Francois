{
 "cells": [
  {
   "cell_type": "code",
   "execution_count": 1,
   "id": "39f330e6-c914-4a38-8f25-d401efa2a0e0",
   "metadata": {},
   "outputs": [],
   "source": [
    "import pandas as pd\n",
    "from ete3 import NCBITaxa\n",
    "from ete3 import Tree"
   ]
  },
  {
   "cell_type": "code",
   "execution_count": 2,
   "id": "20a43678-7862-4c2c-9c6a-16fe7ebb5e1c",
   "metadata": {},
   "outputs": [],
   "source": [
    "# Open taxonomic classification given to me by Fracois\n",
    "df = pd.read_csv(\"Scion16_tax_Primer.csv\")"
   ]
  },
  {
   "cell_type": "code",
   "execution_count": 4,
   "id": "df292335-500d-4b44-898f-034864824f5e",
   "metadata": {},
   "outputs": [
    {
     "data": {
      "text/html": [
       "<div>\n",
       "<style scoped>\n",
       "    .dataframe tbody tr th:only-of-type {\n",
       "        vertical-align: middle;\n",
       "    }\n",
       "\n",
       "    .dataframe tbody tr th {\n",
       "        vertical-align: top;\n",
       "    }\n",
       "\n",
       "    .dataframe thead th {\n",
       "        text-align: right;\n",
       "    }\n",
       "</style>\n",
       "<table border=\"1\" class=\"dataframe\">\n",
       "  <thead>\n",
       "    <tr style=\"text-align: right;\">\n",
       "      <th></th>\n",
       "      <th>Unnamed: 0</th>\n",
       "      <th>Genus</th>\n",
       "      <th>Family</th>\n",
       "      <th>Order</th>\n",
       "      <th>Class</th>\n",
       "      <th>Phylum</th>\n",
       "      <th>Kingdom</th>\n",
       "    </tr>\n",
       "  </thead>\n",
       "  <tbody>\n",
       "    <tr>\n",
       "      <th>0</th>\n",
       "      <td>ASV100</td>\n",
       "      <td>Hyphomonadaceae</td>\n",
       "      <td>Hyphomonadaceae</td>\n",
       "      <td>Caulobacterales</td>\n",
       "      <td>Alphaproteobacteria</td>\n",
       "      <td>Proteobacteria</td>\n",
       "      <td>Bacteria</td>\n",
       "    </tr>\n",
       "    <tr>\n",
       "      <th>1</th>\n",
       "      <td>ASV1000</td>\n",
       "      <td>Rhodobacteraceae</td>\n",
       "      <td>Rhodobacteraceae</td>\n",
       "      <td>Rhodobacterales</td>\n",
       "      <td>Alphaproteobacteria</td>\n",
       "      <td>Proteobacteria</td>\n",
       "      <td>Bacteria</td>\n",
       "    </tr>\n",
       "    <tr>\n",
       "      <th>2</th>\n",
       "      <td>ASV10000</td>\n",
       "      <td>Halioglobus</td>\n",
       "      <td>Halieaceae</td>\n",
       "      <td>Cellvibrionales</td>\n",
       "      <td>Gammaproteobacteria</td>\n",
       "      <td>Proteobacteria</td>\n",
       "      <td>Bacteria</td>\n",
       "    </tr>\n",
       "    <tr>\n",
       "      <th>3</th>\n",
       "      <td>ASV100000</td>\n",
       "      <td>OM190</td>\n",
       "      <td>OM190</td>\n",
       "      <td>OM190</td>\n",
       "      <td>OM190</td>\n",
       "      <td>Planctomycetes</td>\n",
       "      <td>Bacteria</td>\n",
       "    </tr>\n",
       "    <tr>\n",
       "      <th>4</th>\n",
       "      <td>ASV100001</td>\n",
       "      <td>Candidatus_Kaiserbacteria</td>\n",
       "      <td>Candidatus_Kaiserbacteria</td>\n",
       "      <td>Candidatus_Kaiserbacteria</td>\n",
       "      <td>Parcubacteria</td>\n",
       "      <td>Patescibacteria</td>\n",
       "      <td>Bacteria</td>\n",
       "    </tr>\n",
       "    <tr>\n",
       "      <th>...</th>\n",
       "      <td>...</td>\n",
       "      <td>...</td>\n",
       "      <td>...</td>\n",
       "      <td>...</td>\n",
       "      <td>...</td>\n",
       "      <td>...</td>\n",
       "      <td>...</td>\n",
       "    </tr>\n",
       "    <tr>\n",
       "      <th>123773</th>\n",
       "      <td>ASV99994</td>\n",
       "      <td>WCHB1-41</td>\n",
       "      <td>WCHB1-41</td>\n",
       "      <td>WCHB1-41</td>\n",
       "      <td>Kiritimatiellae</td>\n",
       "      <td>Kiritimatiellaeota</td>\n",
       "      <td>Bacteria</td>\n",
       "    </tr>\n",
       "    <tr>\n",
       "      <th>123774</th>\n",
       "      <td>ASV99996</td>\n",
       "      <td>OM190</td>\n",
       "      <td>OM190</td>\n",
       "      <td>OM190</td>\n",
       "      <td>OM190</td>\n",
       "      <td>Planctomycetes</td>\n",
       "      <td>Bacteria</td>\n",
       "    </tr>\n",
       "    <tr>\n",
       "      <th>123775</th>\n",
       "      <td>ASV99997</td>\n",
       "      <td>OM190</td>\n",
       "      <td>OM190</td>\n",
       "      <td>OM190</td>\n",
       "      <td>OM190</td>\n",
       "      <td>Planctomycetes</td>\n",
       "      <td>Bacteria</td>\n",
       "    </tr>\n",
       "    <tr>\n",
       "      <th>123776</th>\n",
       "      <td>ASV99998</td>\n",
       "      <td>Cellvibrionales</td>\n",
       "      <td>Cellvibrionales</td>\n",
       "      <td>Cellvibrionales</td>\n",
       "      <td>Gammaproteobacteria</td>\n",
       "      <td>Proteobacteria</td>\n",
       "      <td>Bacteria</td>\n",
       "    </tr>\n",
       "    <tr>\n",
       "      <th>123777</th>\n",
       "      <td>ASV99999</td>\n",
       "      <td>OM190</td>\n",
       "      <td>OM190</td>\n",
       "      <td>OM190</td>\n",
       "      <td>OM190</td>\n",
       "      <td>Planctomycetes</td>\n",
       "      <td>Bacteria</td>\n",
       "    </tr>\n",
       "  </tbody>\n",
       "</table>\n",
       "<p>123778 rows × 7 columns</p>\n",
       "</div>"
      ],
      "text/plain": [
       "       Unnamed: 0                      Genus                     Family  \\\n",
       "0          ASV100            Hyphomonadaceae            Hyphomonadaceae   \n",
       "1         ASV1000           Rhodobacteraceae           Rhodobacteraceae   \n",
       "2        ASV10000                Halioglobus                 Halieaceae   \n",
       "3       ASV100000                      OM190                      OM190   \n",
       "4       ASV100001  Candidatus_Kaiserbacteria  Candidatus_Kaiserbacteria   \n",
       "...           ...                        ...                        ...   \n",
       "123773   ASV99994                   WCHB1-41                   WCHB1-41   \n",
       "123774   ASV99996                      OM190                      OM190   \n",
       "123775   ASV99997                      OM190                      OM190   \n",
       "123776   ASV99998            Cellvibrionales            Cellvibrionales   \n",
       "123777   ASV99999                      OM190                      OM190   \n",
       "\n",
       "                            Order                Class              Phylum  \\\n",
       "0                 Caulobacterales  Alphaproteobacteria      Proteobacteria   \n",
       "1                 Rhodobacterales  Alphaproteobacteria      Proteobacteria   \n",
       "2                 Cellvibrionales  Gammaproteobacteria      Proteobacteria   \n",
       "3                           OM190                OM190      Planctomycetes   \n",
       "4       Candidatus_Kaiserbacteria        Parcubacteria     Patescibacteria   \n",
       "...                           ...                  ...                 ...   \n",
       "123773                   WCHB1-41      Kiritimatiellae  Kiritimatiellaeota   \n",
       "123774                      OM190                OM190      Planctomycetes   \n",
       "123775                      OM190                OM190      Planctomycetes   \n",
       "123776            Cellvibrionales  Gammaproteobacteria      Proteobacteria   \n",
       "123777                      OM190                OM190      Planctomycetes   \n",
       "\n",
       "         Kingdom  \n",
       "0       Bacteria  \n",
       "1       Bacteria  \n",
       "2       Bacteria  \n",
       "3       Bacteria  \n",
       "4       Bacteria  \n",
       "...          ...  \n",
       "123773  Bacteria  \n",
       "123774  Bacteria  \n",
       "123775  Bacteria  \n",
       "123776  Bacteria  \n",
       "123777  Bacteria  \n",
       "\n",
       "[123778 rows x 7 columns]"
      ]
     },
     "execution_count": 4,
     "metadata": {},
     "output_type": "execute_result"
    }
   ],
   "source": [
    "df"
   ]
  },
  {
   "cell_type": "code",
   "execution_count": 5,
   "id": "3d367868-cf29-4f9b-b9a5-4e2118549cf8",
   "metadata": {},
   "outputs": [],
   "source": [
    "# Get a list with all unique genera\n",
    "family_list = df['Family'].unique()"
   ]
  },
  {
   "cell_type": "code",
   "execution_count": 6,
   "id": "db1d8ed7-3689-4ddf-9a0b-2fb414ae5bd0",
   "metadata": {},
   "outputs": [
    {
     "data": {
      "text/plain": [
       "728"
      ]
     },
     "execution_count": 6,
     "metadata": {},
     "output_type": "execute_result"
    }
   ],
   "source": [
    "# Check the number of unique genera\n",
    "len(family_list)"
   ]
  },
  {
   "cell_type": "code",
   "execution_count": 7,
   "id": "32d01c22-33b7-4eea-bacd-af3ae4b177e7",
   "metadata": {},
   "outputs": [],
   "source": [
    "# Initialize ETE3\n",
    "ncbi = NCBITaxa()"
   ]
  },
  {
   "cell_type": "code",
   "execution_count": 8,
   "id": "00b29073-3eb6-4e34-beab-d172887fb5e0",
   "metadata": {},
   "outputs": [
    {
     "data": {
      "text/plain": [
       "357"
      ]
     },
     "execution_count": 8,
     "metadata": {},
     "output_type": "execute_result"
    }
   ],
   "source": [
    "# Convert genus name to NCBI tax id\n",
    "tax_id_list = []\n",
    "for family in family_list:\n",
    "    name2taxid = ncbi.get_name_translator([str(family)])\n",
    "    name2taxid = list(name2taxid.values())\n",
    "    if len(name2taxid) > 0:\n",
    "        tax_id_list.append(name2taxid[0][0])\n",
    "len(tax_id_list)"
   ]
  },
  {
   "cell_type": "code",
   "execution_count": 9,
   "id": "1da020d8-32fc-48bf-9138-c8aa8227906f",
   "metadata": {},
   "outputs": [],
   "source": [
    "# Build the tree\n",
    "t = ncbi.get_topology(tax_id_list, intermediate_nodes=True)\n",
    "t.write(format=8, outfile=\"tree_family.nw\")"
   ]
  },
  {
   "cell_type": "code",
   "execution_count": 10,
   "id": "d5a169d8-de28-4bc6-8166-9a82c47152ca",
   "metadata": {},
   "outputs": [],
   "source": [
    "# Open results file from PlasticDB and create a dictionary with all genera names that had matches in the PlasticDB database\n",
    "with open(\"j4369676_genus.tsv\") as f:\n",
    "    f = f.readlines()\n",
    "    genus_dict = {}\n",
    "    for line in f[1:]:\n",
    "        if len(line.split(\"\\t\")) > 1:\n",
    "            genus = line.split(\"\\t\")[1]\n",
    "            if genus not in genus_dict:\n",
    "                genus_dict[genus] = \"\""
   ]
  },
  {
   "cell_type": "code",
   "execution_count": 11,
   "id": "bbba729d-03f6-48a7-9e5b-9ea71683d5f6",
   "metadata": {},
   "outputs": [],
   "source": [
    "# Convert genus name to NCBI tax id \n",
    "for genus, value in genus_dict.items():\n",
    "    name2taxid = ncbi.get_name_translator([str(genus)])\n",
    "    name2taxid = list(name2taxid.values())\n",
    "    if len(name2taxid) > 0:\n",
    "        genus_dict[genus] =  name2taxid[0][0]"
   ]
  },
  {
   "cell_type": "code",
   "execution_count": 22,
   "id": "ebb2fba1-2e1c-46c6-b207-0ffeecfd30b4",
   "metadata": {},
   "outputs": [
    {
     "name": "stdout",
     "output_type": "stream",
     "text": [
      "641\n",
      "213483\n",
      "267891\n",
      "267890\n",
      "49546\n",
      "267888\n",
      "186817\n",
      "72275\n",
      "468\n",
      "135621\n",
      "28256\n",
      "119060\n",
      "194924\n",
      "224372\n",
      "75682\n",
      "1762\n",
      "1300\n",
      "186822\n",
      "85025\n",
      "186824\n",
      "135620\n",
      "815\n",
      "80864\n",
      "1843490\n",
      "31979\n",
      "28056\n",
      "41297\n",
      "1268\n",
      "32033\n",
      "84566\n",
      "31989\n",
      "90964\n",
      "85023\n",
      "76892\n",
      "2062\n",
      "213421\n",
      "506\n",
      "186806\n",
      "2070\n",
      "41295\n",
      "1903411\n",
      "543\n"
     ]
    }
   ],
   "source": [
    "# Get family tax ids for all genera\n",
    "family_dict = {}\n",
    "for item, value in genus_dict.items():\n",
    "    for taxid in ncbi.get_lineage(int(value)):\n",
    "        if ncbi.get_rank([taxid])[taxid] == \"family\":\n",
    "            if taxid not in family_dict:\n",
    "                family_dict[taxid] = taxid\n",
    "                print(taxid)"
   ]
  },
  {
   "cell_type": "code",
   "execution_count": 23,
   "id": "f16afbf0-f95c-4871-b0a1-103d914887dd",
   "metadata": {},
   "outputs": [],
   "source": [
    "# Create annotation file to add stars to plastic degraders\n",
    "labels_txt = open(\"degraders_symbols_family.txt\", \"w\")\n",
    "labels_txt.write(\"\"\"DATASET_SYMBOL\n",
    "SEPARATOR COMMA\n",
    "DATASET_LABEL,All plastics\n",
    "COLOR,#00ff00\n",
    "MAXIMUM_SIZE,5\n",
    "DATA\n",
    "#100379,3,5,#0000ff,0,0\n",
    "\"\"\")\n",
    "\n",
    "for family, tax_id in family_dict.items():\n",
    "            labels_txt.write(str(tax_id)+\",3,50,#ff0000,1,1\\n\")\n",
    "        \n",
    "labels_txt.close()"
   ]
  },
  {
   "cell_type": "code",
   "execution_count": 24,
   "id": "10c201ca-cca7-4f68-9b32-7e8b0e1e94b4",
   "metadata": {},
   "outputs": [],
   "source": [
    "# Create another genus dict with only the genera that were reported to degrade PBS\n",
    "with open(\"j4369676_genus.tsv\") as f:\n",
    "    f = f.readlines()\n",
    "    genus_dict = {}\n",
    "    for line in f[1:]:\n",
    "        if len(line.split(\"\\t\")) > 1:\n",
    "            genus = line.split(\"\\t\")[1]\n",
    "            plastic = line.split(\"\\t\")[3]\n",
    "            if genus not in genus_dict and plastic == \"PBS\":\n",
    "                genus_dict[genus] = \"\""
   ]
  },
  {
   "cell_type": "code",
   "execution_count": 25,
   "id": "f98e2f45-f86c-403d-88e7-d213d91e34e0",
   "metadata": {},
   "outputs": [],
   "source": [
    "# Convert genus name to NCBI tax id \n",
    "for genus, value in genus_dict.items():\n",
    "    name2taxid = ncbi.get_name_translator([str(genus)])\n",
    "    name2taxid = list(name2taxid.values())\n",
    "    if len(name2taxid) > 0:\n",
    "        genus_dict[genus] =  name2taxid[0][0]"
   ]
  },
  {
   "cell_type": "code",
   "execution_count": 26,
   "id": "171d5e9e-3694-43b9-8dc4-5493d030f270",
   "metadata": {},
   "outputs": [
    {
     "name": "stdout",
     "output_type": "stream",
     "text": [
      "186817\n",
      "135621\n",
      "186822\n",
      "80864\n",
      "2062\n",
      "186824\n"
     ]
    }
   ],
   "source": [
    "# Get family tax ids for all genera\n",
    "family_dict = {}\n",
    "for item, value in genus_dict.items():\n",
    "    for taxid in ncbi.get_lineage(int(value)):\n",
    "        if ncbi.get_rank([taxid])[taxid] == \"family\":\n",
    "            if taxid not in family_dict:\n",
    "                family_dict[taxid] = taxid\n",
    "                print(taxid)"
   ]
  },
  {
   "cell_type": "code",
   "execution_count": 27,
   "id": "b5abb393-b714-4fe5-88ba-5c2091265d43",
   "metadata": {},
   "outputs": [],
   "source": [
    "# Create annotation file to add stars to plastic degraders\n",
    "labels_txt = open(\"PBS_symbols_family.txt\", \"w\")\n",
    "labels_txt.write(\"\"\"DATASET_SYMBOL\n",
    "SEPARATOR COMMA\n",
    "DATASET_LABEL,All plastics\n",
    "COLOR,#00ff00\n",
    "MAXIMUM_SIZE,5\n",
    "DATA\n",
    "#100379,3,5,#0000ff,0,0\n",
    "\"\"\")\n",
    "\n",
    "for family, tax_id in family_dict.items():\n",
    "            labels_txt.write(str(tax_id)+\",3,50,#0000ff,1,1\\n\")\n",
    "        \n",
    "labels_txt.close()"
   ]
  },
  {
   "cell_type": "code",
   "execution_count": null,
   "id": "883dfb74-e8db-4c8e-9859-7e92dcc2de4c",
   "metadata": {},
   "outputs": [],
   "source": []
  }
 ],
 "metadata": {
  "kernelspec": {
   "display_name": "Python 3 (ipykernel)",
   "language": "python",
   "name": "python3"
  },
  "language_info": {
   "codemirror_mode": {
    "name": "ipython",
    "version": 3
   },
   "file_extension": ".py",
   "mimetype": "text/x-python",
   "name": "python",
   "nbconvert_exporter": "python",
   "pygments_lexer": "ipython3",
   "version": "3.9.7"
  }
 },
 "nbformat": 4,
 "nbformat_minor": 5
}
